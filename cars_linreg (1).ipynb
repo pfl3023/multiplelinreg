{
 "cells": [
  {
   "cell_type": "code",
   "execution_count": 7,
   "id": "94053a8f-e82b-42c0-814b-68cfd6d190e7",
   "metadata": {},
   "outputs": [],
   "source": [
    "import pandas as pd\n",
    "import seaborn as sns"
   ]
  },
  {
   "cell_type": "code",
   "execution_count": 8,
   "id": "789bc27e-b715-4f88-9747-6476fc85c815",
   "metadata": {},
   "outputs": [
    {
     "name": "stdout",
     "output_type": "stream",
     "text": [
      "   Manufacturer        Model  Sales_in_thousands  _year_resale_value  \\\n",
      "0         Acura      Integra              16.919           16.360000   \n",
      "1         Acura           TL              39.384           19.875000   \n",
      "2         Acura           CL              14.114           18.225000   \n",
      "3         Acura           RL               8.588           29.725000   \n",
      "4          Audi           A4              20.397           22.255000   \n",
      "5          Audi           A6              18.780           23.555000   \n",
      "6          Audi           A8               1.380           39.000000   \n",
      "7           BMW         323i              19.747           18.072975   \n",
      "8           BMW         328i               9.231           28.675000   \n",
      "9           BMW         528i              17.527           36.125000   \n",
      "10        Buick      Century              91.561           12.475000   \n",
      "11        Buick        Regal              39.350           13.740000   \n",
      "12        Buick  Park Avenue              27.851           20.190000   \n",
      "13        Buick      LeSabre              83.257           13.360000   \n",
      "14     Cadillac      DeVille              63.729           22.525000   \n",
      "15     Cadillac      Seville              15.943           27.100000   \n",
      "16     Cadillac     Eldorado               6.536           25.725000   \n",
      "17     Cadillac       Catera              11.185           18.225000   \n",
      "18     Cadillac     Escalade              14.785           18.072975   \n",
      "19    Chevrolet     Cavalier             145.519            9.250000   \n",
      "\n",
      "   Vehicle_type  Price_in_thousands  Engine_size  Horsepower  Wheelbase  \\\n",
      "0     Passenger              21.500          1.8         140      101.2   \n",
      "1     Passenger              28.400          3.2         225      108.1   \n",
      "2     Passenger              29.000          3.2         225      106.9   \n",
      "3     Passenger              42.000          3.5         210      114.6   \n",
      "4     Passenger              23.990          1.8         150      102.6   \n",
      "5     Passenger              33.950          2.8         200      108.7   \n",
      "6     Passenger              62.000          4.2         310      113.0   \n",
      "7     Passenger              26.990          2.5         170      107.3   \n",
      "8     Passenger              33.400          2.8         193      107.3   \n",
      "9     Passenger              38.900          2.8         193      111.4   \n",
      "10    Passenger              21.975          3.1         175      109.0   \n",
      "11    Passenger              25.300          3.8         240      109.0   \n",
      "12    Passenger              31.965          3.8         205      113.8   \n",
      "13    Passenger              27.885          3.8         205      112.2   \n",
      "14    Passenger              39.895          4.6         275      115.3   \n",
      "15    Passenger              44.475          4.6         275      112.2   \n",
      "16    Passenger              39.665          4.6         275      108.0   \n",
      "17    Passenger              31.010          3.0         200      107.4   \n",
      "18          Car              46.225          5.7         255      117.5   \n",
      "19    Passenger              13.260          2.2         115      104.1   \n",
      "\n",
      "    Width  Length  Curb_weight  Fuel_capacity  Fuel_efficiency  \\\n",
      "0    67.3   172.4        2.639           13.2               28   \n",
      "1    70.3   192.9        3.517           17.2               25   \n",
      "2    70.6   192.0        3.470           17.2               26   \n",
      "3    71.4   196.6        3.850           18.0               22   \n",
      "4    68.2   178.0        2.998           16.4               27   \n",
      "5    76.1   192.0        3.561           18.5               22   \n",
      "6    74.0   198.2        3.902           23.7               21   \n",
      "7    68.4   176.0        3.179           16.6               26   \n",
      "8    68.5   176.0        3.197           16.6               24   \n",
      "9    70.9   188.0        3.472           18.5               25   \n",
      "10   72.7   194.6        3.368           17.5               25   \n",
      "11   72.7   196.2        3.543           17.5               23   \n",
      "12   74.7   206.8        3.778           18.5               24   \n",
      "13   73.5   200.0        3.591           17.5               25   \n",
      "14   74.5   207.2        3.978           18.5               22   \n",
      "15   75.0   201.0        3.758           18.5               22   \n",
      "16   75.5   200.6        3.843           19.0               22   \n",
      "17   70.3   194.8        3.770           18.0               22   \n",
      "18   77.0   201.2        5.572           30.0               15   \n",
      "19   67.9   180.9        2.676           14.3               27   \n",
      "\n",
      "          Latest_Launch  Power_perf_factor  \n",
      "0   2012-02-02 00:00:00          58.280150  \n",
      "1   2011-03-06 00:00:00          91.370778  \n",
      "2   2012-04-01 00:00:00          90.345000  \n",
      "3   2011-10-03 00:00:00          91.389779  \n",
      "4   2011-08-10 00:00:00          62.777639  \n",
      "5   2011-09-08 00:00:00          84.565105  \n",
      "6             2/27/2012         134.656858  \n",
      "7             6/28/2011          71.191207  \n",
      "8             1/29/2012          81.877069  \n",
      "9   2011-04-04 00:00:00          83.998724  \n",
      "10  2011-02-11 00:00:00          71.181451  \n",
      "11  2011-03-09 00:00:00          95.636703  \n",
      "12            3/23/2012          85.828408  \n",
      "13            7/23/2011          84.254526  \n",
      "14            2/23/2012         113.854598  \n",
      "15            4/29/2011         115.621358  \n",
      "16           11/27/2011         113.765874  \n",
      "17            9/28/2011          83.483094  \n",
      "18            4/17/2012         109.509117  \n",
      "19            8/17/2011          46.363347  \n"
     ]
    }
   ],
   "source": [
    "\n",
    "car = pd.read_excel(\"C:/Users/prish/OneDrive/Desktop/carsdataset.xlsx\")\n",
    "\n",
    "print(car.head(20))\n"
   ]
  },
  {
   "cell_type": "code",
   "execution_count": 9,
   "id": "affb47cb-64fb-4e1f-acb5-de029b74c4ec",
   "metadata": {},
   "outputs": [
    {
     "data": {
      "text/plain": [
       "(101, 16)"
      ]
     },
     "execution_count": 9,
     "metadata": {},
     "output_type": "execute_result"
    }
   ],
   "source": [
    "def lr():\n",
    "    return car.shape\n",
    "lr()"
   ]
  },
  {
   "cell_type": "code",
   "execution_count": 10,
   "id": "dd4984e2-4751-4078-ad42-54edaed07533",
   "metadata": {},
   "outputs": [
    {
     "data": {
      "text/html": [
       "<div>\n",
       "<style scoped>\n",
       "    .dataframe tbody tr th:only-of-type {\n",
       "        vertical-align: middle;\n",
       "    }\n",
       "\n",
       "    .dataframe tbody tr th {\n",
       "        vertical-align: top;\n",
       "    }\n",
       "\n",
       "    .dataframe thead th {\n",
       "        text-align: right;\n",
       "    }\n",
       "</style>\n",
       "<table border=\"1\" class=\"dataframe\">\n",
       "  <thead>\n",
       "    <tr style=\"text-align: right;\">\n",
       "      <th></th>\n",
       "      <th>Sales_in_thousands</th>\n",
       "      <th>_year_resale_value</th>\n",
       "      <th>Price_in_thousands</th>\n",
       "      <th>Engine_size</th>\n",
       "      <th>Horsepower</th>\n",
       "      <th>Wheelbase</th>\n",
       "      <th>Width</th>\n",
       "      <th>Length</th>\n",
       "      <th>Curb_weight</th>\n",
       "      <th>Fuel_capacity</th>\n",
       "      <th>Fuel_efficiency</th>\n",
       "      <th>Power_perf_factor</th>\n",
       "    </tr>\n",
       "  </thead>\n",
       "  <tbody>\n",
       "    <tr>\n",
       "      <th>count</th>\n",
       "      <td>101.000000</td>\n",
       "      <td>101.000000</td>\n",
       "      <td>101.000000</td>\n",
       "      <td>101.000000</td>\n",
       "      <td>101.000000</td>\n",
       "      <td>101.000000</td>\n",
       "      <td>101.000000</td>\n",
       "      <td>101.000000</td>\n",
       "      <td>101.000000</td>\n",
       "      <td>101.000000</td>\n",
       "      <td>101.000000</td>\n",
       "      <td>101.000000</td>\n",
       "    </tr>\n",
       "    <tr>\n",
       "      <th>mean</th>\n",
       "      <td>57.781772</td>\n",
       "      <td>17.642188</td>\n",
       "      <td>27.288119</td>\n",
       "      <td>3.225743</td>\n",
       "      <td>192.188119</td>\n",
       "      <td>107.931683</td>\n",
       "      <td>71.577228</td>\n",
       "      <td>189.179208</td>\n",
       "      <td>3.374663</td>\n",
       "      <td>17.146535</td>\n",
       "      <td>23.782178</td>\n",
       "      <td>87.611491</td>\n",
       "    </tr>\n",
       "    <tr>\n",
       "      <th>std</th>\n",
       "      <td>59.689671</td>\n",
       "      <td>11.957737</td>\n",
       "      <td>13.218482</td>\n",
       "      <td>1.099878</td>\n",
       "      <td>57.544542</td>\n",
       "      <td>6.375091</td>\n",
       "      <td>3.564600</td>\n",
       "      <td>12.598479</td>\n",
       "      <td>0.614077</td>\n",
       "      <td>3.776521</td>\n",
       "      <td>3.445588</td>\n",
       "      <td>37.029666</td>\n",
       "    </tr>\n",
       "    <tr>\n",
       "      <th>min</th>\n",
       "      <td>1.205000</td>\n",
       "      <td>6.800000</td>\n",
       "      <td>13.260000</td>\n",
       "      <td>1.600000</td>\n",
       "      <td>100.000000</td>\n",
       "      <td>93.400000</td>\n",
       "      <td>65.600000</td>\n",
       "      <td>153.100000</td>\n",
       "      <td>2.441000</td>\n",
       "      <td>12.000000</td>\n",
       "      <td>15.000000</td>\n",
       "      <td>44.242076</td>\n",
       "    </tr>\n",
       "    <tr>\n",
       "      <th>25%</th>\n",
       "      <td>17.527000</td>\n",
       "      <td>10.310000</td>\n",
       "      <td>18.150000</td>\n",
       "      <td>2.300000</td>\n",
       "      <td>150.000000</td>\n",
       "      <td>103.700000</td>\n",
       "      <td>68.400000</td>\n",
       "      <td>179.700000</td>\n",
       "      <td>2.947000</td>\n",
       "      <td>14.000000</td>\n",
       "      <td>22.000000</td>\n",
       "      <td>65.987819</td>\n",
       "    </tr>\n",
       "    <tr>\n",
       "      <th>50%</th>\n",
       "      <td>34.183000</td>\n",
       "      <td>13.875000</td>\n",
       "      <td>23.550000</td>\n",
       "      <td>3.000000</td>\n",
       "      <td>190.000000</td>\n",
       "      <td>107.300000</td>\n",
       "      <td>70.900000</td>\n",
       "      <td>188.000000</td>\n",
       "      <td>3.362000</td>\n",
       "      <td>17.000000</td>\n",
       "      <td>24.000000</td>\n",
       "      <td>83.059021</td>\n",
       "    </tr>\n",
       "    <tr>\n",
       "      <th>75%</th>\n",
       "      <td>83.257000</td>\n",
       "      <td>18.275000</td>\n",
       "      <td>31.010000</td>\n",
       "      <td>4.000000</td>\n",
       "      <td>225.000000</td>\n",
       "      <td>112.200000</td>\n",
       "      <td>74.400000</td>\n",
       "      <td>197.800000</td>\n",
       "      <td>3.758000</td>\n",
       "      <td>18.500000</td>\n",
       "      <td>26.000000</td>\n",
       "      <td>98.765426</td>\n",
       "    </tr>\n",
       "    <tr>\n",
       "      <th>max</th>\n",
       "      <td>298.957000</td>\n",
       "      <td>81.625000</td>\n",
       "      <td>92.300000</td>\n",
       "      <td>6.000000</td>\n",
       "      <td>389.000000</td>\n",
       "      <td>131.500000</td>\n",
       "      <td>79.600000</td>\n",
       "      <td>227.700000</td>\n",
       "      <td>5.572000</td>\n",
       "      <td>35.000000</td>\n",
       "      <td>32.000000</td>\n",
       "      <td>303.509859</td>\n",
       "    </tr>\n",
       "  </tbody>\n",
       "</table>\n",
       "</div>"
      ],
      "text/plain": [
       "       Sales_in_thousands  _year_resale_value  Price_in_thousands  \\\n",
       "count          101.000000          101.000000          101.000000   \n",
       "mean            57.781772           17.642188           27.288119   \n",
       "std             59.689671           11.957737           13.218482   \n",
       "min              1.205000            6.800000           13.260000   \n",
       "25%             17.527000           10.310000           18.150000   \n",
       "50%             34.183000           13.875000           23.550000   \n",
       "75%             83.257000           18.275000           31.010000   \n",
       "max            298.957000           81.625000           92.300000   \n",
       "\n",
       "       Engine_size  Horsepower   Wheelbase       Width      Length  \\\n",
       "count   101.000000  101.000000  101.000000  101.000000  101.000000   \n",
       "mean      3.225743  192.188119  107.931683   71.577228  189.179208   \n",
       "std       1.099878   57.544542    6.375091    3.564600   12.598479   \n",
       "min       1.600000  100.000000   93.400000   65.600000  153.100000   \n",
       "25%       2.300000  150.000000  103.700000   68.400000  179.700000   \n",
       "50%       3.000000  190.000000  107.300000   70.900000  188.000000   \n",
       "75%       4.000000  225.000000  112.200000   74.400000  197.800000   \n",
       "max       6.000000  389.000000  131.500000   79.600000  227.700000   \n",
       "\n",
       "       Curb_weight  Fuel_capacity  Fuel_efficiency  Power_perf_factor  \n",
       "count   101.000000     101.000000       101.000000         101.000000  \n",
       "mean      3.374663      17.146535        23.782178          87.611491  \n",
       "std       0.614077       3.776521         3.445588          37.029666  \n",
       "min       2.441000      12.000000        15.000000          44.242076  \n",
       "25%       2.947000      14.000000        22.000000          65.987819  \n",
       "50%       3.362000      17.000000        24.000000          83.059021  \n",
       "75%       3.758000      18.500000        26.000000          98.765426  \n",
       "max       5.572000      35.000000        32.000000         303.509859  "
      ]
     },
     "execution_count": 10,
     "metadata": {},
     "output_type": "execute_result"
    }
   ],
   "source": [
    "car.describe()"
   ]
  },
  {
   "cell_type": "code",
   "execution_count": 11,
   "id": "f94b6455-219b-4886-af48-67614742389b",
   "metadata": {},
   "outputs": [],
   "source": [
    "def count_missing_values(car):\n",
    "    missing_values = car.isnull().sum()\n",
    "    return missing_values"
   ]
  },
  {
   "cell_type": "code",
   "execution_count": 12,
   "id": "06ef7f09-6982-4cc4-98b2-f3e882062950",
   "metadata": {},
   "outputs": [
    {
     "name": "stdout",
     "output_type": "stream",
     "text": [
      "    Manufacturer    Model  Sales_in_thousands  _year_resale_value  \\\n",
      "0          Acura  Integra              16.919              16.360   \n",
      "1          Acura       TL              39.384              19.875   \n",
      "2          Acura       CL              14.114              18.225   \n",
      "3          Acura       RL               8.588              29.725   \n",
      "4           Audi       A4              20.397              22.255   \n",
      "..           ...      ...                 ...                 ...   \n",
      "96    Volkswagen     Golf              35.037              10.225   \n",
      "97         Volvo      S40              19.879              14.175   \n",
      "98         Volvo      S70              19.063              14.975   \n",
      "99         Volvo      S90               4.999              29.325   \n",
      "100        Volvo      V70              29.053              29.175   \n",
      "\n",
      "    Vehicle_type  Price_in_thousands  Engine_size  Horsepower  Wheelbase  \\\n",
      "0      Passenger              21.500          1.8         140      101.2   \n",
      "1      Passenger              28.400          3.2         225      108.1   \n",
      "2      Passenger              29.000          3.2         225      106.9   \n",
      "3      Passenger              42.000          3.5         210      114.6   \n",
      "4      Passenger              23.990          1.8         150      102.6   \n",
      "..           ...                 ...          ...         ...        ...   \n",
      "96     Passenger              15.750          2.0         115       97.4   \n",
      "97     Passenger              22.300          1.9         170      100.9   \n",
      "98     Passenger              23.550          2.3         168      104.9   \n",
      "99     Passenger              37.525          2.9         180      110.5   \n",
      "100    Passenger              40.025          2.9         190      104.9   \n",
      "\n",
      "     Width  Length  Curb_weight  Fuel_capacity  Fuel_efficiency  \\\n",
      "0     67.3   172.4        2.639           13.2               28   \n",
      "1     70.3   192.9        3.517           17.2               25   \n",
      "2     70.6   192.0        3.470           17.2               26   \n",
      "3     71.4   196.6        3.850           18.0               22   \n",
      "4     68.2   178.0        2.998           16.4               27   \n",
      "..     ...     ...          ...            ...              ...   \n",
      "96    68.3   171.2        2.525           13.0               28   \n",
      "97    68.3   177.7        2.738           13.7               26   \n",
      "98    69.6   185.9        3.034           14.2               26   \n",
      "99    69.7   190.9        3.243           16.0               24   \n",
      "100   73.2   186.2        3.386           16.0               24   \n",
      "\n",
      "           Latest_Launch  Power_perf_factor  Vehicle_type_Car  \\\n",
      "0    2012-02-02 00:00:00          58.280150             False   \n",
      "1    2011-03-06 00:00:00          91.370778             False   \n",
      "2    2012-04-01 00:00:00          90.345000             False   \n",
      "3    2011-10-03 00:00:00          91.389779             False   \n",
      "4    2011-08-10 00:00:00          62.777639             False   \n",
      "..                   ...                ...               ...   \n",
      "96             5/26/2011          56.569005             False   \n",
      "97   2012-10-02 00:00:00          75.761018             False   \n",
      "98   2011-09-08 00:00:00          81.726137             False   \n",
      "99   2012-03-04 00:00:00         115.470595             False   \n",
      "100           10/18/2011         125.467790             False   \n",
      "\n",
      "     Vehicle_type_Passenger  \n",
      "0                      True  \n",
      "1                      True  \n",
      "2                      True  \n",
      "3                      True  \n",
      "4                      True  \n",
      "..                      ...  \n",
      "96                     True  \n",
      "97                     True  \n",
      "98                     True  \n",
      "99                     True  \n",
      "100                    True  \n",
      "\n",
      "[101 rows x 18 columns]\n"
     ]
    }
   ],
   "source": [
    "\n",
    "# Perform one-hot encoding\n",
    "one_hot_encoded = pd.get_dummies(car['Vehicle_type'], prefix='Vehicle_type')\n",
    "\n",
    "# Concatenate the one-hot encoded columns with the original DataFrame\n",
    "car_encoded = pd.concat([car, one_hot_encoded], axis=1)\n",
    "\n",
    "print(car_encoded)\n"
   ]
  },
  {
   "cell_type": "code",
   "execution_count": 13,
   "id": "8d68ff57-f927-4c0d-a021-92d9abfaef07",
   "metadata": {},
   "outputs": [
    {
     "name": "stdout",
     "output_type": "stream",
     "text": [
      "    Manufacturer    Model  Sales_in_thousands  _year_resale_value  \\\n",
      "0          Acura  Integra              16.919              16.360   \n",
      "1          Acura       TL              39.384              19.875   \n",
      "2          Acura       CL              14.114              18.225   \n",
      "3          Acura       RL               8.588              29.725   \n",
      "4           Audi       A4              20.397              22.255   \n",
      "..           ...      ...                 ...                 ...   \n",
      "96    Volkswagen     Golf              35.037              10.225   \n",
      "97         Volvo      S40              19.879              14.175   \n",
      "98         Volvo      S70              19.063              14.975   \n",
      "99         Volvo      S90               4.999              29.325   \n",
      "100        Volvo      V70              29.053              29.175   \n",
      "\n",
      "     Price_in_thousands  Engine_size  Horsepower  Wheelbase  Width  Length  \\\n",
      "0                21.500          1.8         140      101.2   67.3   172.4   \n",
      "1                28.400          3.2         225      108.1   70.3   192.9   \n",
      "2                29.000          3.2         225      106.9   70.6   192.0   \n",
      "3                42.000          3.5         210      114.6   71.4   196.6   \n",
      "4                23.990          1.8         150      102.6   68.2   178.0   \n",
      "..                  ...          ...         ...        ...    ...     ...   \n",
      "96               15.750          2.0         115       97.4   68.3   171.2   \n",
      "97               22.300          1.9         170      100.9   68.3   177.7   \n",
      "98               23.550          2.3         168      104.9   69.6   185.9   \n",
      "99               37.525          2.9         180      110.5   69.7   190.9   \n",
      "100              40.025          2.9         190      104.9   73.2   186.2   \n",
      "\n",
      "     Curb_weight  Fuel_capacity  Fuel_efficiency        Latest_Launch  \\\n",
      "0          2.639           13.2               28  2012-02-02 00:00:00   \n",
      "1          3.517           17.2               25  2011-03-06 00:00:00   \n",
      "2          3.470           17.2               26  2012-04-01 00:00:00   \n",
      "3          3.850           18.0               22  2011-10-03 00:00:00   \n",
      "4          2.998           16.4               27  2011-08-10 00:00:00   \n",
      "..           ...            ...              ...                  ...   \n",
      "96         2.525           13.0               28            5/26/2011   \n",
      "97         2.738           13.7               26  2012-10-02 00:00:00   \n",
      "98         3.034           14.2               26  2011-09-08 00:00:00   \n",
      "99         3.243           16.0               24  2012-03-04 00:00:00   \n",
      "100        3.386           16.0               24           10/18/2011   \n",
      "\n",
      "     Power_perf_factor  Vehicle_type_Car  Vehicle_type_Passenger  \n",
      "0            58.280150             False                    True  \n",
      "1            91.370778             False                    True  \n",
      "2            90.345000             False                    True  \n",
      "3            91.389779             False                    True  \n",
      "4            62.777639             False                    True  \n",
      "..                 ...               ...                     ...  \n",
      "96           56.569005             False                    True  \n",
      "97           75.761018             False                    True  \n",
      "98           81.726137             False                    True  \n",
      "99          115.470595             False                    True  \n",
      "100         125.467790             False                    True  \n",
      "\n",
      "[101 rows x 17 columns]\n"
     ]
    }
   ],
   "source": [
    "car_encoded.drop('Vehicle_type', axis=1, inplace=True)\n",
    "print (car_encoded)"
   ]
  },
  {
   "cell_type": "code",
   "execution_count": 14,
   "id": "3a85f42b-ea7f-4b23-b0e5-c45b69908fa3",
   "metadata": {},
   "outputs": [
    {
     "name": "stdout",
     "output_type": "stream",
     "text": [
      "     Sales_in_thousands  _year_resale_value  Price_in_thousands  Engine_size  \\\n",
      "0                16.919              16.360              21.500          1.8   \n",
      "1                39.384              19.875              28.400          3.2   \n",
      "2                14.114              18.225              29.000          3.2   \n",
      "3                 8.588              29.725              42.000          3.5   \n",
      "4                20.397              22.255              23.990          1.8   \n",
      "..                  ...                 ...                 ...          ...   \n",
      "96               35.037              10.225              15.750          2.0   \n",
      "97               19.879              14.175              22.300          1.9   \n",
      "98               19.063              14.975              23.550          2.3   \n",
      "99                4.999              29.325              37.525          2.9   \n",
      "100              29.053              29.175              40.025          2.9   \n",
      "\n",
      "     Horsepower  Wheelbase  Width  Length  Curb_weight  Fuel_capacity  \\\n",
      "0           140      101.2   67.3   172.4        2.639           13.2   \n",
      "1           225      108.1   70.3   192.9        3.517           17.2   \n",
      "2           225      106.9   70.6   192.0        3.470           17.2   \n",
      "3           210      114.6   71.4   196.6        3.850           18.0   \n",
      "4           150      102.6   68.2   178.0        2.998           16.4   \n",
      "..          ...        ...    ...     ...          ...            ...   \n",
      "96          115       97.4   68.3   171.2        2.525           13.0   \n",
      "97          170      100.9   68.3   177.7        2.738           13.7   \n",
      "98          168      104.9   69.6   185.9        3.034           14.2   \n",
      "99          180      110.5   69.7   190.9        3.243           16.0   \n",
      "100         190      104.9   73.2   186.2        3.386           16.0   \n",
      "\n",
      "     Fuel_efficiency  Power_perf_factor  Vehicle_type_Car  \\\n",
      "0                 28          58.280150             False   \n",
      "1                 25          91.370778             False   \n",
      "2                 26          90.345000             False   \n",
      "3                 22          91.389779             False   \n",
      "4                 27          62.777639             False   \n",
      "..               ...                ...               ...   \n",
      "96                28          56.569005             False   \n",
      "97                26          75.761018             False   \n",
      "98                26          81.726137             False   \n",
      "99                24         115.470595             False   \n",
      "100               24         125.467790             False   \n",
      "\n",
      "     Vehicle_type_Passenger  \n",
      "0                      True  \n",
      "1                      True  \n",
      "2                      True  \n",
      "3                      True  \n",
      "4                      True  \n",
      "..                      ...  \n",
      "96                     True  \n",
      "97                     True  \n",
      "98                     True  \n",
      "99                     True  \n",
      "100                    True  \n",
      "\n",
      "[101 rows x 14 columns]\n"
     ]
    }
   ],
   "source": [
    "car_encoded.drop(['Manufacturer', 'Model', 'Latest_Launch'], axis=1, inplace=True)\n",
    "print(car_encoded)"
   ]
  },
  {
   "cell_type": "code",
   "execution_count": 15,
   "id": "2d023c7c-48c7-4c23-89de-056cbf35267b",
   "metadata": {},
   "outputs": [
    {
     "data": {
      "image/png": "[encoded data removed]",
      "text/plain": [
       "<Figure size 640x480 with 1 Axes>"
      ]
     },
     "metadata": {},
     "output_type": "display_data"
    }
   ],
   "source": [
    "\n",
    "def lr():\n",
    "    # Load the DataFrame from an Excel file\n",
    "    car_encoded = pd.read_excel(\"C:/Users/prish/OneDrive/Desktop/carsdataset.xlsx\")\n",
    "    \n",
    "    # Visualize the DataFrame\n",
    "    sns.boxplot(data=car_encoded, orient=\"h\", palette=\"Set2\")\n",
    "    \n",
    "    return None \n",
    "\n",
    "# Call the function\n",
    "lr()"
   ]
  },
  {
   "cell_type": "code",
   "execution_count": 16,
   "id": "780fa095-b84d-458b-8ad8-e6ee7a5fae3a",
   "metadata": {},
   "outputs": [
    {
     "name": "stdout",
     "output_type": "stream",
     "text": [
      "     Sales_in_thousands  _year_resale_value  Price_in_thousands  Engine_size  \\\n",
      "0                16.919              16.360              21.500          1.8   \n",
      "1                39.384              19.875              28.400          3.2   \n",
      "2                14.114              18.225              29.000          3.2   \n",
      "3                 8.588              29.725              42.000          3.5   \n",
      "4                20.397              22.255              23.990          1.8   \n",
      "..                  ...                 ...                 ...          ...   \n",
      "96               35.037              10.225              15.750          2.0   \n",
      "97               19.879              14.175              22.300          1.9   \n",
      "98               19.063              14.975              23.550          2.3   \n",
      "99                4.999              29.325              37.525          2.9   \n",
      "100              29.053              29.175              40.025          2.9   \n",
      "\n",
      "     Horsepower  Wheelbase  Width  Length  Curb_weight  Fuel_capacity  \\\n",
      "0           140      101.2   67.3   172.4        2.639           13.2   \n",
      "1           225      108.1   70.3   192.9        3.517           17.2   \n",
      "2           225      106.9   70.6   192.0        3.470           17.2   \n",
      "3           210      114.6   71.4   196.6        3.850           18.0   \n",
      "4           150      102.6   68.2   178.0        2.998           16.4   \n",
      "..          ...        ...    ...     ...          ...            ...   \n",
      "96          115       98.4   68.3   171.6        2.541           13.0   \n",
      "97          170      100.9   68.3   177.7        2.738           13.7   \n",
      "98          168      104.9   69.6   185.9        3.034           14.2   \n",
      "99          180      110.5   69.7   190.9        3.243           16.0   \n",
      "100         190      104.9   73.2   186.2        3.386           16.0   \n",
      "\n",
      "     Fuel_efficiency  Power_perf_factor  \n",
      "0                 28          58.280150  \n",
      "1                 25          91.370778  \n",
      "2                 26          90.345000  \n",
      "3                 22          91.389779  \n",
      "4                 27          62.777639  \n",
      "..               ...                ...  \n",
      "96                28          56.569005  \n",
      "97                26          75.761018  \n",
      "98                26          81.726137  \n",
      "99                24         115.470595  \n",
      "100               24         125.467790  \n",
      "\n",
      "[101 rows x 12 columns]\n"
     ]
    }
   ],
   "source": [
    "# Assuming car_encoded is your DataFrame\n",
    "def remove_outliers(car_encoded):\n",
    "    # Ensure all columns are numeric,so take in only  numeric values\n",
    "    numeric_car_encoded = car_encoded.select_dtypes(include=[int, float])\n",
    "    \n",
    "    # Calculate the 5th and 95th percentiles\n",
    "    percentile_5 = numeric_car_encoded.quantile(0.05)\n",
    "    percentile_95 = numeric_car_encoded.quantile(0.95)\n",
    "    \n",
    "    # Clip values to be within the 5th to 95th percentile range\n",
    "    car_encoded_cleaned = numeric_car_encoded.clip(lower=percentile_5, upper=percentile_95, axis=1)\n",
    "    \n",
    "    return car_encoded_cleaned\n",
    "\n",
    "\n",
    "car_encoded_cleaned = remove_outliers(car_encoded)\n",
    "print(car_encoded_cleaned)"
   ]
  },
  {
   "cell_type": "code",
   "execution_count": 17,
   "id": "3a146685-41ee-4cc1-b51b-cf5130e5b6d2",
   "metadata": {},
   "outputs": [
    {
     "name": "stdout",
     "output_type": "stream",
     "text": [
      "     Sales_in_thousands  _year_resale_value  Price_in_thousands  Engine_size  \\\n",
      "0             -0.723936              16.360              21.500          1.8   \n",
      "1             -0.311637              19.875              28.400          3.2   \n",
      "2             -0.775416              18.225              29.000          3.2   \n",
      "3             -0.876834              29.725              42.000          3.5   \n",
      "4             -0.660104              22.255              23.990          1.8   \n",
      "..                  ...                 ...                 ...          ...   \n",
      "96            -0.391417              10.225              15.750          2.0   \n",
      "97            -0.669611              14.175              22.300          1.9   \n",
      "98            -0.684587              14.975              23.550          2.3   \n",
      "99            -0.942703              29.325              37.525          2.9   \n",
      "100           -0.501241              29.175              40.025          2.9   \n",
      "\n",
      "     Horsepower  Wheelbase  Width  Length  Curb_weight  Fuel_capacity  \\\n",
      "0           140      101.2   67.3   172.4        2.639           13.2   \n",
      "1           225      108.1   70.3   192.9        3.517           17.2   \n",
      "2           225      106.9   70.6   192.0        3.470           17.2   \n",
      "3           210      114.6   71.4   196.6        3.850           18.0   \n",
      "4           150      102.6   68.2   178.0        2.998           16.4   \n",
      "..          ...        ...    ...     ...          ...            ...   \n",
      "96          115       98.4   68.3   171.6        2.541           13.0   \n",
      "97          170      100.9   68.3   177.7        2.738           13.7   \n",
      "98          168      104.9   69.6   185.9        3.034           14.2   \n",
      "99          180      110.5   69.7   190.9        3.243           16.0   \n",
      "100         190      104.9   73.2   186.2        3.386           16.0   \n",
      "\n",
      "     Fuel_efficiency  Power_perf_factor  \n",
      "0                 28          58.280150  \n",
      "1                 25          91.370778  \n",
      "2                 26          90.345000  \n",
      "3                 22          91.389779  \n",
      "4                 27          62.777639  \n",
      "..               ...                ...  \n",
      "96                28          56.569005  \n",
      "97                26          75.761018  \n",
      "98                26          81.726137  \n",
      "99                24         115.470595  \n",
      "100               24         125.467790  \n",
      "\n",
      "[101 rows x 12 columns]\n"
     ]
    }
   ],
   "source": [
    "\n",
    "from sklearn.preprocessing import StandardScaler\n",
    "\n",
    "# Step 2: Extract the 'sales_in_thousands' column\n",
    "sales_data = car_encoded_cleaned[['Sales_in_thousands']]\n",
    "\n",
    "# Step 3: Initialize the StandardScaler\n",
    "scaler = StandardScaler()\n",
    "\n",
    "# Step 4: Fit and transform the data\n",
    "sales_data_scaled = scaler.fit_transform(sales_data)\n",
    "\n",
    "# Step 5: Replace the original 'sales_in_thousands' column with the standardized values\n",
    "car_encoded_cleaned['Sales_in_thousands'] = sales_data_scaled\n",
    "\n",
    "# Print the updated DataFrame\n",
    "print(car_encoded_cleaned)\n"
   ]
  },
  {
   "cell_type": "code",
   "execution_count": 18,
   "id": "93c876da-f624-4b14-9e50-deaf9d844ebc",
   "metadata": {},
   "outputs": [
    {
     "data": {
      "image/png": "[encoded data removed]",
      "text/plain": [
       "<Figure size 1000x800 with 2 Axes>"
      ]
     },
     "metadata": {},
     "output_type": "display_data"
    }
   ],
   "source": [
    "import pandas as pd\n",
    "import seaborn as sns\n",
    "import matplotlib.pyplot as plt\n",
    "\n",
    "\n",
    "\n",
    "# List of columns to consider for the heatmap\n",
    "columns_to_consider = ['Price_in_thousands', 'Engine_size', 'Wheelbase', 'Fuel_efficiency']\n",
    "\n",
    "# Extract the specified columns\n",
    "car_encoded_extracted_h = car_encoded_cleaned[columns_to_consider]\n",
    "\n",
    "# Step 1: Compute the correlation matrix\n",
    "correlation_matrix = car_encoded_extracted_h.corr()\n",
    "\n",
    "# Step 2: Plot the heatmap\n",
    "plt.figure(figsize=(10, 8))\n",
    "sns.heatmap(correlation_matrix, annot=True, cmap='coolwarm', linewidths=0.5)\n",
    "plt.title('Correlation Heatmap')\n",
    "plt.show()\n"
   ]
  },
  {
   "cell_type": "code",
   "execution_count": 19,
   "id": "be0bb91d-f63d-4872-9afb-7a05d6ec03ad",
   "metadata": {},
   "outputs": [
    {
     "name": "stdout",
     "output_type": "stream",
     "text": [
      "     Price_in_thousands  Engine_size  Wheelbase  Fuel_efficiency\n",
      "0                21.500          1.8      101.2               28\n",
      "1                28.400          3.2      108.1               25\n",
      "2                29.000          3.2      106.9               26\n",
      "3                42.000          3.5      114.6               22\n",
      "4                23.990          1.8      102.6               27\n",
      "..                  ...          ...        ...              ...\n",
      "96               15.750          2.0       98.4               28\n",
      "97               22.300          1.9      100.9               26\n",
      "98               23.550          2.3      104.9               26\n",
      "99               37.525          2.9      110.5               24\n",
      "100              40.025          2.9      104.9               24\n",
      "\n",
      "[101 rows x 4 columns]\n"
     ]
    }
   ],
   "source": [
    "columns_to_extract = ['Price_in_thousands', 'Engine_size', 'Wheelbase', 'Fuel_efficiency']\n",
    "\n",
    "# Extract the specified columns\n",
    "car_encoded_extracted = car_encoded_cleaned[columns_to_extract]\n",
    "\n",
    "# Print the resulting DataFrame\n",
    "print(car_encoded_extracted)"
   ]
  },
  {
   "cell_type": "code",
   "execution_count": 20,
   "id": "6f2ca61e-b536-4246-969d-ab29d2ce0c71",
   "metadata": {},
   "outputs": [
    {
     "name": "stdout",
     "output_type": "stream",
     "text": [
      "     Price_in_thousands  Engine_size  Wheelbase  Fuel_efficiency\n",
      "0                21.500          1.8      101.2               28\n",
      "1                28.400          3.2      108.1               25\n",
      "2                29.000          3.2      106.9               26\n",
      "3                42.000          3.5      114.6               22\n",
      "4                23.990          1.8      102.6               27\n",
      "..                  ...          ...        ...              ...\n",
      "96               15.750          2.0       98.4               28\n",
      "97               22.300          1.9      100.9               26\n",
      "98               23.550          2.3      104.9               26\n",
      "99               37.525          2.9      110.5               24\n",
      "100              40.025          2.9      104.9               24\n",
      "\n",
      "[101 rows x 4 columns]\n"
     ]
    }
   ],
   "source": [
    "feature_cols = ['Price_in_thousands', 'Engine_size', 'Wheelbase', 'Fuel_efficiency']\n",
    "\n",
    "def lr(car_encoded_extracted):\n",
    "    # Extract the feature columns and assign them to X\n",
    "    X = car_encoded_extracted[feature_cols]\n",
    "    return X\n",
    "\n",
    "# Call the lr function with the cars DataFrame\n",
    "X = lr(car_encoded_extracted)\n",
    "\n",
    "# Print the resulting DataFrame X\n",
    "print(X)"
   ]
  },
  {
   "cell_type": "code",
   "execution_count": 21,
   "id": "56a4c290-6257-440a-a497-c37d897e8c44",
   "metadata": {},
   "outputs": [
    {
     "name": "stdout",
     "output_type": "stream",
     "text": [
      "<class 'pandas.core.frame.DataFrame'>\n",
      "(101, 4)\n"
     ]
    }
   ],
   "source": [
    "def lr():\n",
    "    print(type(X))\n",
    "    print(X.shape)\n",
    "lr()"
   ]
  },
  {
   "cell_type": "code",
   "execution_count": 22,
   "id": "fa373763-66d6-44b3-95f7-5aa660b13b50",
   "metadata": {},
   "outputs": [
    {
     "name": "stdout",
     "output_type": "stream",
     "text": [
      "0     -0.723936\n",
      "1     -0.311637\n",
      "2     -0.775416\n",
      "3     -0.876834\n",
      "4     -0.660104\n",
      "         ...   \n",
      "96    -0.391417\n",
      "97    -0.669611\n",
      "98    -0.684587\n",
      "99    -0.942703\n",
      "100   -0.501241\n",
      "Name: Sales_in_thousands, Length: 101, dtype: float64\n"
     ]
    }
   ],
   "source": [
    "y = pd.DataFrame()\n",
    "def lr(car_encoded_cleaned):\n",
    "    y = car_encoded_cleaned['Sales_in_thousands']\n",
    "    return y\n",
    "y = lr(car_encoded_cleaned)\n",
    "print(y)"
   ]
  },
  {
   "cell_type": "code",
   "execution_count": 23,
   "id": "1680c231-7b48-4e9d-8892-d906de628445",
   "metadata": {},
   "outputs": [],
   "source": [
    "from sklearn.model_selection import train_test_split\n",
    "X_train, X_test, y_train, y_test = train_test_split(X, y, test_size=0.3, random_state=42) #70-30 split\n"
   ]
  },
  {
   "cell_type": "code",
   "execution_count": 24,
   "id": "8acb7402-926d-40a5-ae0c-01bd5d0da145",
   "metadata": {},
   "outputs": [
    {
     "name": "stdout",
     "output_type": "stream",
     "text": [
      "(70, 4)\n",
      "(31, 4)\n"
     ]
    }
   ],
   "source": [
    "print(X_train.shape)\n",
    "print(X_test.shape)"
   ]
  },
  {
   "cell_type": "code",
   "execution_count": 25,
   "id": "6ab82fae-c829-4cb5-a912-0291f0c252c8",
   "metadata": {},
   "outputs": [
    {
     "name": "stdout",
     "output_type": "stream",
     "text": [
      "(70,)\n",
      "(31,)\n"
     ]
    }
   ],
   "source": [
    "print(y_train.shape)\n",
    "print(y_test.shape)"
   ]
  },
  {
   "cell_type": "code",
   "execution_count": 26,
   "id": "c6198f08-9c60-4f8f-b9cb-078646646091",
   "metadata": {},
   "outputs": [],
   "source": [
    "from sklearn.linear_model import LinearRegression\n",
    "model =LinearRegression()\n",
    "model.fit(X_train,y_train)\n",
    "y_pred = model.predict(X_test)"
   ]
  },
  {
   "cell_type": "code",
   "execution_count": 27,
   "id": "fb8a7d25-83b2-45bc-b074-887759bf96ca",
   "metadata": {},
   "outputs": [
    {
     "name": "stdout",
     "output_type": "stream",
     "text": [
      "[-0.04910377  0.10650166 -0.02204718 -0.00680905]\n",
      "3.4513208750445905\n"
     ]
    }
   ],
   "source": [
    "print(model.coef_)\n",
    "print(model.intercept_)\n"
   ]
  },
  {
   "cell_type": "code",
   "execution_count": 28,
   "id": "4c77572b-73d3-4ae3-ae67-205667657b5e",
   "metadata": {},
   "outputs": [
    {
     "name": "stdout",
     "output_type": "stream",
     "text": [
      "Price_in_thousands -0.049103769217909495\n",
      "Engine_size 0.10650165556532348\n",
      "Wheelbase -0.022047183099546685\n",
      "Fuel_efficiency -0.006809052623883738\n"
     ]
    }
   ],
   "source": [
    "feature_names = ['Price_in_thousands', 'Engine_size', 'Wheelbase', 'Fuel_efficiency']\n",
    "feature_coefficients = zip(feature_names, model.coef_)\n",
    "for feature, coefficient in feature_coefficients:\n",
    "    print(feature, coefficient)\n"
   ]
  },
  {
   "cell_type": "code",
   "execution_count": 29,
   "id": "6395e07b-e578-4b7e-ac12-33daa9b5ddad",
   "metadata": {},
   "outputs": [],
   "source": [
    "y_predict_test = model.predict(X_test)\n",
    "y_predict_train = model.predict(X_train)"
   ]
  },
  {
   "cell_type": "code",
   "execution_count": 30,
   "id": "2130f89c-fc5d-49a8-b8c0-44a5f96670a6",
   "metadata": {},
   "outputs": [
    {
     "name": "stdout",
     "output_type": "stream",
     "text": [
      "[ 0.26391249 -0.24617072 -0.73380338  0.39169125 -0.16451065  0.53575391\n",
      "  0.22364951  0.02768137  0.12905141  0.16546441 -0.94968983  0.47489699\n",
      "  0.15706382  0.08959411  0.55387705  0.01913902  0.16888405  0.3809937\n",
      " -0.38596152  0.22287666  0.37758615  0.48590421 -0.20669085  0.21903921\n",
      " -0.87188861 -0.86615475  0.48332607  0.24138143 -0.78689362  0.53084353\n",
      "  0.05395064]\n",
      "[ 5.30297733e-01  6.00294177e-02 -2.01780470e-01  2.97879527e-01\n",
      " -4.63875415e-01  1.57039527e-02  3.10442718e-01  2.38183834e-01\n",
      " -5.37367448e-01  1.10172263e-01 -2.88745743e-01 -1.50433832e-01\n",
      " -1.61637395e-01  5.12726226e-02 -9.28321357e-01  5.00801653e-01\n",
      "  2.51960042e-01  3.02940294e-02 -1.25067143e+00  3.15355422e-01\n",
      " -1.57151698e-01  2.75019512e-01 -9.14687979e-01 -2.69548664e-01\n",
      "  5.50485038e-01 -4.19620391e-01 -4.29237587e-02 -1.27067605e+00\n",
      " -3.18375398e-01  1.89722101e-02  2.12835740e-01 -1.09683799e+00\n",
      " -6.81369457e-01  2.31659052e-01  4.57616298e-01  2.75213680e-01\n",
      "  5.45729350e-02 -1.24738227e+00 -2.66896362e-01  5.00960424e-02\n",
      "  4.28393695e-01  3.69601235e-01  5.45826131e-01 -3.31842253e-01\n",
      "  2.54484114e-01 -1.07429396e+00  5.63442777e-01  4.51455053e-03\n",
      "  5.02177634e-01  3.17136295e-01 -1.15586854e+00  4.57835855e-01\n",
      " -4.44255715e-04 -6.39651284e-01 -1.55947682e-01  3.85788501e-01\n",
      "  3.13607308e-01 -1.65762376e-01 -7.34145961e-01  1.31866521e-02\n",
      " -6.82074259e-01 -1.14634129e-01  2.69731151e-01 -8.49587742e-02\n",
      "  4.40270276e-01  5.62205247e-02  4.62496436e-01 -7.09605751e-01\n",
      "  4.23528272e-01  1.58235480e-01]\n"
     ]
    }
   ],
   "source": [
    "print(y_predict_test)\n",
    "print(y_predict_train)"
   ]
  },
  {
   "cell_type": "code",
   "execution_count": 33,
   "id": "a15392a6-bdcb-4a6b-86be-70c306cdcc0d",
   "metadata": {},
   "outputs": [
    {
     "name": "stdout",
     "output_type": "stream",
     "text": [
      "RMSE for train set: 0.8275923436435808\n",
      "RMSE for test set: 0.9009205016650469\n"
     ]
    }
   ],
   "source": [
    "from sklearn.metrics import mean_squared_error\n",
    "import numpy as np\n",
    "\n",
    "# Calculate RMSE for the train set\n",
    "rmse_train = np.sqrt(mean_squared_error(y_train, y_predict_train))\n",
    "\n",
    "# Calculate RMSE for the test set\n",
    "rmse_test = np.sqrt(mean_squared_error(y_test, y_predict_test))\n",
    "\n",
    "print(\"RMSE for train set:\", rmse_train)\n",
    "print(\"RMSE for test set:\", rmse_test)"
   ]
  },
  {
   "cell_type": "code",
   "execution_count": 34,
   "id": "6b988233-6991-40db-ade4-b3e476330674",
   "metadata": {},
   "outputs": [],
   "source": [
    "from sklearn.metrics import r2_score\n",
    "r2train= r2_score(y_train, y_predict_train)\n",
    "r2test = r2_score(y_test, y_predict_test)"
   ]
  },
  {
   "cell_type": "code",
   "execution_count": 35,
   "id": "797b7be2-f3bf-448d-9574-c382572a30c7",
   "metadata": {},
   "outputs": [
    {
     "name": "stdout",
     "output_type": "stream",
     "text": [
      "R-squared for train set: 0.26820422457627646\n",
      "R-squared for test set: 0.2592241678343217\n"
     ]
    }
   ],
   "source": [
    "print (\"R-squared for train set:\",r2train)\n",
    "print (\"R-squared for test set:\",r2test)"
   ]
  },
  {
   "cell_type": "code",
   "execution_count": null,
   "id": "a14ccc9c-a635-4e7c-aab3-195cd1b792f8",
   "metadata": {},
   "outputs": [],
   "source": []
  }
 ],
 "metadata": {
  "kernelspec": {
   "display_name": "Python 3 (ipykernel)",
   "language": "python",
   "name": "python3"
  },
  "language_info": {
   "codemirror_mode": {
    "name": "ipython",
    "version": 3
   },
   "file_extension": ".py",
   "mimetype": "text/x-python",
   "name": "python",
   "nbconvert_exporter": "python",
   "pygments_lexer": "ipython3",
   "version": "3.11.7"
  }
 },
 "nbformat": 4,
 "nbformat_minor": 5
}
